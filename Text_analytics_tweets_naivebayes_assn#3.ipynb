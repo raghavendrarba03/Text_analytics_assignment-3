{
 "cells": [
  {
   "cell_type": "code",
   "execution_count": 1,
   "metadata": {},
   "outputs": [
    {
     "name": "stderr",
     "output_type": "stream",
     "text": [
      "F:\\Python\\Anaconda\\lib\\site-packages\\sklearn\\cross_validation.py:41: DeprecationWarning: This module was deprecated in version 0.18 in favor of the model_selection module into which all the refactored classes and functions are moved. Also note that the interface of the new CV iterators are different from that of this module. This module will be removed in 0.20.\n",
      "  \"This module will be removed in 0.20.\", DeprecationWarning)\n",
      "F:\\Python\\Anaconda\\lib\\site-packages\\sklearn\\grid_search.py:42: DeprecationWarning: This module was deprecated in version 0.18 in favor of the model_selection module into which all the refactored classes and functions are moved. This module will be removed in 0.20.\n",
      "  DeprecationWarning)\n",
      "F:\\Python\\Anaconda\\lib\\site-packages\\sklearn\\learning_curve.py:22: DeprecationWarning: This module was deprecated in version 0.18 in favor of the model_selection module into which all the functions are moved. This module will be removed in 0.20\n",
      "  DeprecationWarning)\n"
     ]
    }
   ],
   "source": [
    "%matplotlib inline\n",
    "import matplotlib.pyplot as plt\n",
    "import csv\n",
    "from textblob import TextBlob\n",
    "import pandas\n",
    "import sklearn\n",
    "import numpy as np\n",
    "from sklearn.feature_extraction.text import CountVectorizer, TfidfTransformer\n",
    "from sklearn.naive_bayes import MultinomialNB\n",
    "from sklearn.svm import SVC, LinearSVC\n",
    "from sklearn.metrics import classification_report, f1_score, accuracy_score, confusion_matrix\n",
    "from sklearn.pipeline import Pipeline\n",
    "from sklearn.grid_search import GridSearchCV\n",
    "from sklearn.cross_validation import StratifiedKFold, cross_val_score, train_test_split \n",
    "from sklearn.tree import DecisionTreeClassifier \n",
    "from sklearn.learning_curve import learning_curve"
   ]
  },
  {
   "cell_type": "code",
   "execution_count": 2,
   "metadata": {},
   "outputs": [
    {
     "name": "stdout",
     "output_type": "stream",
     "text": [
      "   id  label                                              tweet\n",
      "0   1      0   @user when a father is dysfunctional and is s...\n",
      "1   2      0  @user @user thanks for #lyft credit i can't us...\n",
      "2   3      0                                bihday your majesty\n",
      "3   4      0  #model   i love u take with u all the time in ...\n",
      "4   5      0             factsguide: society now    #motivation\n"
     ]
    }
   ],
   "source": [
    "## loading data using Pandas\n",
    "\n",
    "tweets = pandas.read_csv('C:\\\\Users\\\\Raghavendra Reddy\\\\Desktop\\\\Text analytics\\\\Assignment 3\\\\train_tweets.csv',encoding=\"utf8\")\n",
    "print(tweets.head())"
   ]
  },
  {
   "cell_type": "code",
   "execution_count": 3,
   "metadata": {},
   "outputs": [
    {
     "data": {
      "text/html": [
       "<div>\n",
       "<style scoped>\n",
       "    .dataframe tbody tr th:only-of-type {\n",
       "        vertical-align: middle;\n",
       "    }\n",
       "\n",
       "    .dataframe tbody tr th {\n",
       "        vertical-align: top;\n",
       "    }\n",
       "\n",
       "    .dataframe thead tr th {\n",
       "        text-align: left;\n",
       "    }\n",
       "\n",
       "    .dataframe thead tr:last-of-type th {\n",
       "        text-align: right;\n",
       "    }\n",
       "</style>\n",
       "<table border=\"1\" class=\"dataframe\">\n",
       "  <thead>\n",
       "    <tr>\n",
       "      <th></th>\n",
       "      <th colspan=\"8\" halign=\"left\">id</th>\n",
       "    </tr>\n",
       "    <tr>\n",
       "      <th></th>\n",
       "      <th>count</th>\n",
       "      <th>mean</th>\n",
       "      <th>std</th>\n",
       "      <th>min</th>\n",
       "      <th>25%</th>\n",
       "      <th>50%</th>\n",
       "      <th>75%</th>\n",
       "      <th>max</th>\n",
       "    </tr>\n",
       "    <tr>\n",
       "      <th>label</th>\n",
       "      <th></th>\n",
       "      <th></th>\n",
       "      <th></th>\n",
       "      <th></th>\n",
       "      <th></th>\n",
       "      <th></th>\n",
       "      <th></th>\n",
       "      <th></th>\n",
       "    </tr>\n",
       "  </thead>\n",
       "  <tbody>\n",
       "    <tr>\n",
       "      <th>0</th>\n",
       "      <td>29720.0</td>\n",
       "      <td>15974.454441</td>\n",
       "      <td>9223.783469</td>\n",
       "      <td>1.0</td>\n",
       "      <td>7981.75</td>\n",
       "      <td>15971.5</td>\n",
       "      <td>23965.25</td>\n",
       "      <td>31962.0</td>\n",
       "    </tr>\n",
       "    <tr>\n",
       "      <th>1</th>\n",
       "      <td>2242.0</td>\n",
       "      <td>16074.896075</td>\n",
       "      <td>9267.955758</td>\n",
       "      <td>14.0</td>\n",
       "      <td>8075.25</td>\n",
       "      <td>16095.0</td>\n",
       "      <td>24022.00</td>\n",
       "      <td>31961.0</td>\n",
       "    </tr>\n",
       "  </tbody>\n",
       "</table>\n",
       "</div>"
      ],
      "text/plain": [
       "            id                                                               \\\n",
       "         count          mean          std   min      25%      50%       75%   \n",
       "label                                                                         \n",
       "0      29720.0  15974.454441  9223.783469   1.0  7981.75  15971.5  23965.25   \n",
       "1       2242.0  16074.896075  9267.955758  14.0  8075.25  16095.0  24022.00   \n",
       "\n",
       "                \n",
       "           max  \n",
       "label           \n",
       "0      31962.0  \n",
       "1      31961.0  "
      ]
     },
     "execution_count": 3,
     "metadata": {},
     "output_type": "execute_result"
    }
   ],
   "source": [
    "## To get pivot of dataset\n",
    "\n",
    "tweets.groupby('label').describe()"
   ]
  },
  {
   "cell_type": "code",
   "execution_count": 4,
   "metadata": {},
   "outputs": [
    {
     "name": "stdout",
     "output_type": "stream",
     "text": [
      "   id  label                                              tweet  length\n",
      "0   1      0   @user when a father is dysfunctional and is s...     102\n",
      "1   2      0  @user @user thanks for #lyft credit i can't us...     122\n",
      "2   3      0                                bihday your majesty      21\n",
      "3   4      0  #model   i love u take with u all the time in ...      86\n",
      "4   5      0             factsguide: society now    #motivation      39\n"
     ]
    }
   ],
   "source": [
    "## adding extra column to get the length of the text\n",
    "\n",
    "tweets['length'] = tweets['tweet'].map(lambda text: len(text))\n",
    "print (tweets.head())"
   ]
  },
  {
   "cell_type": "code",
   "execution_count": 5,
   "metadata": {},
   "outputs": [
    {
     "data": {
      "text/plain": [
       "count    31962.000000\n",
       "mean        84.739628\n",
       "std         29.455749\n",
       "min         11.000000\n",
       "25%         63.000000\n",
       "50%         88.000000\n",
       "75%        108.000000\n",
       "max        274.000000\n",
       "Name: length, dtype: float64"
      ]
     },
     "execution_count": 5,
     "metadata": {},
     "output_type": "execute_result"
    },
    {
     "data": {
      "image/png": "[encoded data removed]",
      "text/plain": [
       "<matplotlib.figure.Figure at 0x1f692ca6b38>"
      ]
     },
     "metadata": {},
     "output_type": "display_data"
    }
   ],
   "source": [
    "## plotting\n",
    "\n",
    "tweets.length.plot(bins=20, kind='hist')\n",
    "\n",
    "tweets.length.describe()"
   ]
  },
  {
   "cell_type": "code",
   "execution_count": 6,
   "metadata": {},
   "outputs": [
    {
     "data": {
      "text/plain": [
       "array([<matplotlib.axes._subplots.AxesSubplot object at 0x000001F6977625C0>,\n",
       "       <matplotlib.axes._subplots.AxesSubplot object at 0x000001F6977D67B8>],\n",
       "      dtype=object)"
      ]
     },
     "execution_count": 6,
     "metadata": {},
     "output_type": "execute_result"
    },
    {
     "data": {
      "image/png": "[encoded data removed]",
      "text/plain": [
       "<matplotlib.figure.Figure at 0x1f6977406a0>"
      ]
     },
     "metadata": {},
     "output_type": "display_data"
    }
   ],
   "source": [
    "## checking out the difference between ham and spam\n",
    "\n",
    "tweets.hist(column='length', by='label', bins=50)"
   ]
  },
  {
   "cell_type": "code",
   "execution_count": 7,
   "metadata": {},
   "outputs": [],
   "source": [
    "## Data Preprocessing\n",
    "\n",
    "## we'll use the bag-of-words approach, where each unique word in a text will be represented by one number.\n",
    "\n",
    "## splitting it into tokens\n",
    "def split_into_tokens(tweet):\n",
    "    return TextBlob(tweet).words"
   ]
  },
  {
   "cell_type": "code",
   "execution_count": 8,
   "metadata": {},
   "outputs": [
    {
     "data": {
      "text/plain": [
       "0     @user when a father is dysfunctional and is s...\n",
       "1    @user @user thanks for #lyft credit i can't us...\n",
       "2                                  bihday your majesty\n",
       "3    #model   i love u take with u all the time in ...\n",
       "4               factsguide: society now    #motivation\n",
       "Name: tweet, dtype: object"
      ]
     },
     "execution_count": 8,
     "metadata": {},
     "output_type": "execute_result"
    }
   ],
   "source": [
    "## original text\n",
    "tweets.tweet.head()"
   ]
  },
  {
   "cell_type": "code",
   "execution_count": 9,
   "metadata": {},
   "outputs": [
    {
     "data": {
      "text/plain": [
       "0    [user, when, a, father, is, dysfunctional, and...\n",
       "1    [user, user, thanks, for, lyft, credit, i, ca,...\n",
       "2                              [bihday, your, majesty]\n",
       "3    [model, i, love, u, take, with, u, all, the, t...\n",
       "4               [factsguide, society, now, motivation]\n",
       "Name: tweet, dtype: object"
      ]
     },
     "execution_count": 9,
     "metadata": {},
     "output_type": "execute_result"
    }
   ],
   "source": [
    "## now text after tokenized\n",
    "tweets.tweet.head().apply(split_into_tokens)"
   ]
  },
  {
   "cell_type": "code",
   "execution_count": 10,
   "metadata": {},
   "outputs": [
    {
     "data": {
      "text/plain": [
       "[('Hello', 'NNP'),\n",
       " ('world', 'NN'),\n",
       " ('how', 'WRB'),\n",
       " ('is', 'VBZ'),\n",
       " ('it', 'PRP'),\n",
       " ('going', 'VBG')]"
      ]
     },
     "execution_count": 10,
     "metadata": {},
     "output_type": "execute_result"
    }
   ],
   "source": [
    "## Part of speech tag (POS)\n",
    "\n",
    "TextBlob(\"Hello world, how is it going?\").tags  # list of (word, POS) pairs"
   ]
  },
  {
   "cell_type": "code",
   "execution_count": 15,
   "metadata": {},
   "outputs": [
    {
     "data": {
      "text/plain": [
       "0    [user, when, a, father, is, dysfunctional, and...\n",
       "1    [user, user, thanks, for, lyft, credit, i, ca,...\n",
       "2                              [bihday, your, majesty]\n",
       "3    [model, i, love, u, take, with, u, all, the, t...\n",
       "4               [factsguide, society, now, motivation]\n",
       "Name: tweet, dtype: object"
      ]
     },
     "execution_count": 15,
     "metadata": {},
     "output_type": "execute_result"
    }
   ],
   "source": [
    "## lemmatizing --- normalize words into their base form\n",
    "\n",
    "def split_into_lemmas(tweet):\n",
    "    words = TextBlob(tweet).words\n",
    "    # for each word, take its \"base form\" = lemma \n",
    "    return [word.lemma for word in words]\n",
    "\n",
    "tweets.tweet.head().apply(split_into_lemmas)"
   ]
  },
  {
   "cell_type": "code",
   "execution_count": 18,
   "metadata": {},
   "outputs": [
    {
     "data": {
      "text/plain": [
       "44434"
      ]
     },
     "execution_count": 18,
     "metadata": {},
     "output_type": "execute_result"
    }
   ],
   "source": [
    "## Data to Vectors\n",
    "\n",
    "# Now we'll convert each message, represented as a list of tokens (lemmas) above, \n",
    "# into a vector that machine learning models can understand.\n",
    "\n",
    "# Doing that requires essentially three steps, in the bag-of-words model:\n",
    "\n",
    "# 1. counting how many times does a word occur in each message (term frequency)\n",
    "# 2. weighting the counts, so that frequent tokens get lower weight (inverse document frequency)\n",
    "# 3. normalizing the vectors to unit length, to abstract from the original text length (L2 norm)\n",
    "\n",
    "# Each vector has as many dimensions as there are unique words in the SMS corpus:\n",
    "\n",
    "bow_transformer = CountVectorizer(analyzer=split_into_lemmas).fit(tweets['tweet'])\n",
    "len(bow_transformer.vocabulary_)"
   ]
  },
  {
   "cell_type": "code",
   "execution_count": 20,
   "metadata": {},
   "outputs": [
    {
     "name": "stdout",
     "output_type": "stream",
     "text": [
      "#model   i love u take with u all the time in urð±!!! ðððð",
      "ð¦ð¦ð¦  \n"
     ]
    }
   ],
   "source": [
    "# Here we used `scikit-learn` (`sklearn`), a powerful Python library for teaching machine learning. \n",
    "# It contains a multitude of various methods and options.\n",
    "\n",
    "# Let's take one text message and get its bag-of-words counts as a vector, putting to use our new `bow_transformer`:\n",
    "\n",
    "## Feature Engineering\n",
    "\n",
    "tweet4 = tweets['tweet'][3]\n",
    "print (tweet4)"
   ]
  },
  {
   "cell_type": "code",
   "execution_count": 22,
   "metadata": {},
   "outputs": [
    {
     "name": "stdout",
     "output_type": "stream",
     "text": [
      "  (0, 2528)\t1\n",
      "  (0, 17941)\t1\n",
      "  (0, 18435)\t1\n",
      "  (0, 21994)\t1\n",
      "  (0, 23901)\t1\n",
      "  (0, 35230)\t1\n",
      "  (0, 35824)\t1\n",
      "  (0, 36371)\t1\n",
      "  (0, 37452)\t2\n",
      "  (0, 37924)\t1\n",
      "  (0, 39706)\t1\n",
      "  (0, 43048)\t1\n",
      "  (0, 43821)\t1\n",
      "(1, 44434)\n"
     ]
    }
   ],
   "source": [
    "bow4 = bow_transformer.transform([tweet4])\n",
    "print(bow4)\n",
    "print(bow4.shape)"
   ]
  },
  {
   "cell_type": "code",
   "execution_count": 25,
   "metadata": {},
   "outputs": [
    {
     "name": "stdout",
     "output_type": "stream",
     "text": [
      "sparse matrix shape: (31962, 44434)\n",
      "number of non-zeros: 394686\n",
      "sparsity: 0.03%\n"
     ]
    }
   ],
   "source": [
    "tweets_bow = bow_transformer.transform(tweets['tweet'])\n",
    "print ('sparse matrix shape:', tweets_bow.shape)\n",
    "print ('number of non-zeros:', tweets_bow.nnz)\n",
    "print ('sparsity: %.2f%%' % (100.0 * tweets_bow.nnz / (tweets_bow.shape[0] * tweets_bow.shape[1])))"
   ]
  },
  {
   "cell_type": "code",
   "execution_count": 27,
   "metadata": {},
   "outputs": [
    {
     "name": "stdout",
     "output_type": "stream",
     "text": [
      "  (0, 43821)\t0.32253482077659806\n",
      "  (0, 43048)\t0.322357957928932\n",
      "  (0, 39706)\t0.20604135297071888\n",
      "  (0, 37924)\t0.32253482077659806\n",
      "  (0, 37452)\t0.4936052481226372\n",
      "  (0, 36371)\t0.2472818440284068\n",
      "  (0, 35824)\t0.13690718632343743\n",
      "  (0, 35230)\t0.2817169177205784\n",
      "  (0, 23901)\t0.31353215497203735\n",
      "  (0, 21994)\t0.20203689796455812\n",
      "  (0, 18435)\t0.17467955994093995\n",
      "  (0, 17941)\t0.15517744307756376\n",
      "  (0, 2528)\t0.22126483679070025\n"
     ]
    }
   ],
   "source": [
    "\n",
    "# And finally, after the counting, the term weighting and normalization \n",
    "# can be done with [TF-IDF] using scikit-learn's `TfidfTransformer`:\n",
    "\n",
    "tfidf_transformer = TfidfTransformer().fit(tweets_bow)\n",
    "tfidf4 = tfidf_transformer.transform(bow4)\n",
    "print (tfidf4)"
   ]
  },
  {
   "cell_type": "code",
   "execution_count": 29,
   "metadata": {},
   "outputs": [
    {
     "name": "stdout",
     "output_type": "stream",
     "text": [
      "4.273958624218329\n",
      "7.46031125738097\n"
     ]
    }
   ],
   "source": [
    "# To check what is the IDF (inverse document frequency) of the word `\"u\"`? Of word `\"university\"`?\n",
    "\n",
    "print (tfidf_transformer.idf_[bow_transformer.vocabulary_['u']])\n",
    "print (tfidf_transformer.idf_[bow_transformer.vocabulary_['university']])"
   ]
  },
  {
   "cell_type": "code",
   "execution_count": 31,
   "metadata": {},
   "outputs": [
    {
     "name": "stdout",
     "output_type": "stream",
     "text": [
      "(31962, 44434)\n"
     ]
    }
   ],
   "source": [
    "# To transform the entire bag-of-words corpus into TF-IDF corpus at once:\n",
    "\n",
    "tweets_tfidf = tfidf_transformer.transform(tweets_bow)\n",
    "print (tweets_tfidf.shape)"
   ]
  },
  {
   "cell_type": "code",
   "execution_count": 32,
   "metadata": {},
   "outputs": [
    {
     "name": "stdout",
     "output_type": "stream",
     "text": [
      "Wall time: 141 ms\n"
     ]
    }
   ],
   "source": [
    "## Training a model\n",
    "# We'll be using scikit-learn here, choosing the [Naive Bayes] \n",
    "# classifier to start with:\n",
    "\n",
    "%time spam_detector = MultinomialNB().fit(tweets_tfidf, tweets['label'])"
   ]
  },
  {
   "cell_type": "code",
   "execution_count": 34,
   "metadata": {},
   "outputs": [
    {
     "name": "stdout",
     "output_type": "stream",
     "text": [
      "predicted: 0\n",
      "expected: 0\n"
     ]
    }
   ],
   "source": [
    "# Let's try classifying our single random message:\n",
    "\n",
    "print ('predicted:', spam_detector.predict(tfidf4)[0])\n",
    "print ('expected:', tweets.label[3])"
   ]
  },
  {
   "cell_type": "code",
   "execution_count": 35,
   "metadata": {},
   "outputs": [
    {
     "name": "stdout",
     "output_type": "stream",
     "text": [
      "[0 0 0 ... 0 1 0]\n"
     ]
    }
   ],
   "source": [
    "all_predictions = spam_detector.predict(tweets_tfidf)\n",
    "print (all_predictions)"
   ]
  },
  {
   "cell_type": "code",
   "execution_count": 36,
   "metadata": {},
   "outputs": [
    {
     "name": "stdout",
     "output_type": "stream",
     "text": [
      "accuracy 0.9405544083599274\n",
      "confusion matrix\n",
      " [[29720     0]\n",
      " [ 1900   342]]\n",
      "(row=expected, col=predicted)\n"
     ]
    },
    {
     "data": {
      "text/plain": [
       "Text(0.5,0,'predicted label')"
      ]
     },
     "execution_count": 36,
     "metadata": {},
     "output_type": "execute_result"
    },
    {
     "data": {
      "image/png": "[encoded data removed]",
      "text/plain": [
       "<matplotlib.figure.Figure at 0x1f69f98f128>"
      ]
     },
     "metadata": {},
     "output_type": "display_data"
    }
   ],
   "source": [
    "## Calculating accuracy and confusion matrix on Training data which will definitely give good accuracy\n",
    "\n",
    "print ('accuracy', accuracy_score(tweets['label'], all_predictions))\n",
    "print ('confusion matrix\\n', confusion_matrix(tweets['label'], all_predictions))\n",
    "print ('(row=expected, col=predicted)')\n",
    "\n",
    "plt.matshow(confusion_matrix(tweets['label'], all_predictions), cmap=plt.cm.binary, interpolation='nearest')\n",
    "plt.title('confusion matrix')\n",
    "plt.colorbar()\n",
    "plt.ylabel('expected label')\n",
    "plt.xlabel('predicted label')"
   ]
  },
  {
   "cell_type": "code",
   "execution_count": 38,
   "metadata": {},
   "outputs": [
    {
     "name": "stdout",
     "output_type": "stream",
     "text": [
      "             precision    recall  f1-score   support\n",
      "\n",
      "          0       0.94      1.00      0.97     29720\n",
      "          1       1.00      0.15      0.26      2242\n",
      "\n",
      "avg / total       0.94      0.94      0.92     31962\n",
      "\n"
     ]
    }
   ],
   "source": [
    "print (classification_report(tweets['label'], all_predictions))"
   ]
  },
  {
   "cell_type": "code",
   "execution_count": 40,
   "metadata": {},
   "outputs": [
    {
     "name": "stdout",
     "output_type": "stream",
     "text": [
      "25569 6393 31962\n"
     ]
    }
   ],
   "source": [
    "## splitting the data into training and testing\n",
    "\n",
    "msg_train, msg_test, label_train, label_test = \\\n",
    "    train_test_split(tweets['tweet'], tweets['label'], test_size=0.2)\n",
    "\n",
    "print (len(msg_train), len(msg_test), len(msg_train) + len(msg_test))"
   ]
  },
  {
   "cell_type": "code",
   "execution_count": 41,
   "metadata": {},
   "outputs": [],
   "source": [
    "pipeline = Pipeline([\n",
    "    ('bow', CountVectorizer(analyzer=split_into_lemmas)),  # strings to token integer counts\n",
    "    ('tfidf', TfidfTransformer()),  # integer counts to weighted TF-IDF scores\n",
    "    ('classifier', MultinomialNB()),  # train on TF-IDF vectors w/ Naive Bayes classifier\n",
    "])"
   ]
  },
  {
   "cell_type": "code",
   "execution_count": null,
   "metadata": {},
   "outputs": [],
   "source": [
    "\n",
    "## Cross Validation\n",
    "\n",
    "# A common practice is to partition the training set again, into smaller subsets; for example, 5 equally sized subsets. \n",
    "# Then we train the model on four parts, and compute accuracy on the last part (called \"validation set\"). \n",
    "# Repeated five times (taking different part for evaluation each time), we get a sense of model \"stability\". \n",
    "# If the model gives wildly different scores for different subsets, it's a sign something is wrong (bad data, or bad model variance). \n",
    "# Go back, analyze errors, re-check input data for garbage, re-check data cleaning.\n",
    "\n",
    "scores = cross_val_score(pipeline,  # steps to convert raw messages into models\n",
    "                         msg_train,  # training data\n",
    "                         label_train,  # training labels\n",
    "                         cv=10,  # split data randomly into 10 parts: 9 for training, 1 for scoring\n",
    "                         scoring='accuracy',  # which scoring metric?\n",
    "                         n_jobs=-1,  # -1 = use all cores = faster\n",
    "                         )\n",
    "print (scores)"
   ]
  },
  {
   "cell_type": "code",
   "execution_count": null,
   "metadata": {},
   "outputs": [],
   "source": []
  }
 ],
 "metadata": {
  "kernelspec": {
   "display_name": "Python 3",
   "language": "python",
   "name": "python3"
  },
  "language_info": {
   "codemirror_mode": {
    "name": "ipython",
    "version": 3
   },
   "file_extension": ".py",
   "mimetype": "text/x-python",
   "name": "python",
   "nbconvert_exporter": "python",
   "pygments_lexer": "ipython3",
   "version": "3.6.4"
  }
 },
 "nbformat": 4,
 "nbformat_minor": 2
}
